{
 "cells": [
  {
   "cell_type": "code",
   "execution_count": 1,
   "metadata": {},
   "outputs": [
    {
     "data": {
      "text/plain": [
       "PLIST"
      ]
     },
     "execution_count": 1,
     "metadata": {},
     "output_type": "execute_result"
    }
   ],
   "source": [
    "(defparameter plist (list :fu 3 :baz \"Some text\"))"
   ]
  },
  {
   "cell_type": "code",
   "execution_count": 2,
   "metadata": {},
   "outputs": [
    {
     "data": {
      "application/vnd.jupyter.widget-view+json": {
       "model_id": "191cc731929444d86421ea919529b280",
       "version_major": 2,
       "version_minor": 0
      },
      "text/plain": [
       "A Jupyter Widget"
      ]
     },
     "metadata": {},
     "output_type": "display_data"
    }
   ],
   "source": [
    "(jupyter-widgets:make-interactive-plist\n",
    "  '((:indicator :fu :type :int :label \"fu (int)\")\n",
    "    (:indicator :bar :type :int :label \"bar (bounded int)\" :style :bounded-text)\n",
    "    (:indicator :quux :type :int :label \"quux (slider int)\" :style :slider :min -10 :max 10)\n",
    "    (:indicator :wibble :type :float :label \"wibble (float)\")\n",
    "    (:indicator :baz :type :string :label \"baz (string)\")\n",
    "    (:indicator :gronk :type :bool :label \"gronk (bool checkbox)\")\n",
    "    (:indicator :angle :type :bool :label \"angle (bool toggle)\" :description \"angle\" :style :toggle))\n",
    "  plist)"
   ]
  },
  {
   "cell_type": "code",
   "execution_count": 3,
   "metadata": {},
   "outputs": [
    {
     "data": {
      "text/plain": [
       "(:FU 3 :BAZ \"Some text\")"
      ]
     },
     "execution_count": 3,
     "metadata": {},
     "output_type": "execute_result"
    }
   ],
   "source": [
    "plist"
   ]
  },
  {
   "cell_type": "code",
   "execution_count": 4,
   "metadata": {},
   "outputs": [
    {
     "data": {
      "text/plain": [
       "ALIST"
      ]
     },
     "execution_count": 4,
     "metadata": {},
     "output_type": "execute_result"
    }
   ],
   "source": [
    "(defparameter alist (list (cons \"fu\" 1) (cons \"lima\" (list \"wibble\" \"wibble\")) (cons \"quux\" \"gronk\")))"
   ]
  },
  {
   "cell_type": "code",
   "execution_count": 5,
   "metadata": {},
   "outputs": [
    {
     "data": {
      "application/vnd.jupyter.widget-view+json": {
       "model_id": "40bd82840c554c5ad889217c9694c5d1",
       "version_major": 2,
       "version_minor": 0
      },
      "text/plain": [
       "A Jupyter Widget"
      ]
     },
     "metadata": {},
     "output_type": "display_data"
    }
   ],
   "source": [
    "(jupyter-widgets:make-interactive-alist\n",
    "  '((:indicator \"fu\" :type :int :label \"fu (int)\")\n",
    "    (:indicator \"baz\" :type :string :label \"baz (string)\")\n",
    "    (:indicator \"quux\" :type :option :label \"quux (option)\" :options (\"wibble\" \"gronk\" \"kilroy\"))\n",
    "    (:indicator \"foxtrot\" :type :option :label \"foxtrot (option dropdown)\" :options (\"wibble\" \"gronk\" \"kilroy\") :style :dropdown)\n",
    "    (:indicator \"india\" :type :option :label \"india (option dropdown)\" :options (\"wibble\" \"gronk\" \"kilroy\") :style :slider)\n",
    "    (:indicator \"tango\" :type :option :label \"tango (option dropdown)\" :options (\"wibble\" \"gronk\" \"kilroy\") :style :radio)\n",
    "    #+(or)(:indicator \"lima\" :type :option-range :label \"lima (option range)\" :options (\"wibble\" \"gronk\" \"kilroy\") :style :radio))\n",
    "  alist :test #'string=)"
   ]
  },
  {
   "cell_type": "code",
   "execution_count": 6,
   "metadata": {},
   "outputs": [
    {
     "data": {
      "text/plain": [
       "((\"fu\" . 1) (\"lima\" \"wibble\" \"wibble\") (\"quux\" . \"gronk\"))"
      ]
     },
     "execution_count": 6,
     "metadata": {},
     "output_type": "execute_result"
    }
   ],
   "source": [
    "alist"
   ]
  },
  {
   "cell_type": "code",
   "execution_count": 7,
   "metadata": {},
   "outputs": [
    {
     "data": {
      "application/vnd.jupyter.widget-view+json": {
       "model_id": "8a0063a64b914aec4902c5d7d661b15e",
       "version_major": 2,
       "version_minor": 0
      },
      "text/plain": [
       "A Jupyter Widget"
      ]
     },
     "metadata": {},
     "output_type": "display_data"
    }
   ],
   "source": [
    "(make-instance 'jupyter-widgets:select :%options-labels '(\"wibble\" \"gronk\" \"kilroy\") :value \"gronk\")"
   ]
  },
  {
   "cell_type": "code",
   "execution_count": 15,
   "metadata": {},
   "outputs": [
    {
     "data": {
      "text/plain": [
       "S"
      ]
     },
     "execution_count": 15,
     "metadata": {},
     "output_type": "execute_result"
    }
   ],
   "source": [
    "(defparameter s '( (:indicator :%NTF%\n",
    "       :label \"Force calculation-on (1) -off (2) [NTF]\"\n",
    "       :type :option :style :dropdown\n",
    "       :default 2\n",
    "        :options (1 2 3 4 5 6 7 8)\n",
    "       :labels (\"complete interaction is calculated\"\n",
    "                \"bond interactions involving H-atoms omitted (use with NTC=2)\"\n",
    "                \"all the bond interactions are omitted (use with NTC=3)\"\n",
    "                \"angle involving H-atoms and all bonds are omitted\"\n",
    "                \"all bond and angle interactions are omitted\"\n",
    "                \"dihedrals involving H-atoms and all bonds and all angle interactions are omitted\"\n",
    "                \"all bond, angle and dihedral interactions are omitted\"\n",
    "                \"all bond, angle, dihedral and non-bonded interactions are omitted\"))))"
   ]
  },
  {
   "cell_type": "code",
   "execution_count": 16,
   "metadata": {},
   "outputs": [
    {
     "data": {
      "text/plain": [
       "A"
      ]
     },
     "execution_count": 16,
     "metadata": {},
     "output_type": "execute_result"
    }
   ],
   "source": [
    "(defparameter a nil)"
   ]
  },
  {
   "cell_type": "code",
   "execution_count": 17,
   "metadata": {},
   "outputs": [
    {
     "data": {
      "application/vnd.jupyter.widget-view+json": {
       "model_id": "8bac8b5e5b5b4daea72470822a3b8554",
       "version_major": 2,
       "version_minor": 0
      },
      "text/plain": [
       "A Jupyter Widget"
      ]
     },
     "metadata": {},
     "output_type": "display_data"
    }
   ],
   "source": [
    "(jupyter-widgets:make-interactive-plist s a)"
   ]
  },
  {
   "cell_type": "code",
   "execution_count": null,
   "metadata": {},
   "outputs": [],
   "source": [
    "(defparameter c (make-instance 'jupyter-widgets:select :value 1 :options '(1 2 3) :%options-labels '(\"a\" \"b\" \"c\")))"
   ]
  },
  {
   "cell_type": "code",
   "execution_count": 14,
   "metadata": {},
   "outputs": [
    {
     "data": {
      "text/plain": [
       "(:%NTF% 6)"
      ]
     },
     "execution_count": 14,
     "metadata": {},
     "output_type": "execute_result"
    }
   ],
   "source": [
    "a"
   ]
  },
  {
   "cell_type": "code",
   "execution_count": null,
   "metadata": {},
   "outputs": [],
   "source": [
    "(jupyter-widgets:widget-value c)"
   ]
  },
  {
   "cell_type": "code",
   "execution_count": null,
   "metadata": {},
   "outputs": [],
   "source": []
  }
 ],
 "metadata": {
  "kernelspec": {
   "display_name": "Common Lisp (SBCL)",
   "language": "common-lisp",
   "name": "common-lisp_sbcl"
  },
  "language_info": {
   "codemirror_mode": "text/x-common-lisp",
   "file_extension": ".lisp",
   "mimetype": "text/x-common-lisp",
   "name": "common-lisp",
   "pygments_lexer": "common-lisp",
   "version": "2.0.8"
  }
 },
 "nbformat": 4,
 "nbformat_minor": 4
}
