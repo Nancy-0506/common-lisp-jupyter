{
 "cells": [
  {
   "cell_type": "code",
   "execution_count": 6,
   "metadata": {},
   "outputs": [
    {
     "data": {
      "text/plain": [
       "PLIST"
      ]
     },
     "execution_count": 6,
     "metadata": {},
     "output_type": "execute_result"
    }
   ],
   "source": [
    "(defparameter plist (list :fu 3 :baz \"Some text\"))"
   ]
  },
  {
   "cell_type": "code",
   "execution_count": 7,
   "metadata": {},
   "outputs": [
    {
     "data": {
      "application/vnd.jupyter.widget-view+json": {
       "model_id": "7b4a55074f134824773119667c37c6cf",
       "version_major": 2,
       "version_minor": 0
      },
      "text/plain": [
       "A Jupyter Widget"
      ]
     },
     "metadata": {},
     "output_type": "display_data"
    }
   ],
   "source": [
    "(jupyter-widgets:make-interactive-plist\n",
    "  '((:indicator :fu :type :int :label \"fu (int)\")\n",
    "    (:indicator :bar :type :int :label \"bar (bounded int)\" :style :bounded-text)\n",
    "    (:indicator :quux :type :int :label \"quux (slider int)\" :style :slider :min -10 :max 10)\n",
    "    (:indicator :wibble :type :float :label \"wibble (float)\")\n",
    "    (:indicator :baz :type :string :label \"baz (string)\")\n",
    "    (:indicator :gronk :type :bool :label \"gronk (bool checkbox)\")\n",
    "    (:indicator :angle :type :bool :label \"angle (bool toggle)\" :description \"angle\" :style :toggle))\n",
    "  plist)"
   ]
  },
  {
   "cell_type": "code",
   "execution_count": 8,
   "metadata": {},
   "outputs": [
    {
     "data": {
      "text/plain": [
       "(:FU 3 :BAZ \"Some text\")"
      ]
     },
     "execution_count": 8,
     "metadata": {},
     "output_type": "execute_result"
    }
   ],
   "source": [
    "plist"
   ]
  },
  {
   "cell_type": "code",
   "execution_count": 1,
   "metadata": {},
   "outputs": [
    {
     "data": {
      "text/plain": [
       "ALIST"
      ]
     },
     "execution_count": 1,
     "metadata": {},
     "output_type": "execute_result"
    }
   ],
   "source": [
    "(defparameter alist (list (cons \"fu\" 1) (cons \"lima\" (list \"wibble\" \"wibble\")) (cons \"quux\" \"gronk\")))"
   ]
  },
  {
   "cell_type": "code",
   "execution_count": 2,
   "metadata": {},
   "outputs": [
    {
     "data": {
      "application/vnd.jupyter.widget-view+json": {
       "model_id": "3d7e2cc1fc844ad7ba503a2bb9d310df",
       "version_major": 2,
       "version_minor": 0
      },
      "text/plain": [
       "A Jupyter Widget"
      ]
     },
     "metadata": {},
     "output_type": "display_data"
    }
   ],
   "source": [
    "(jupyter-widgets:make-interactive-alist\n",
    "  '((:indicator \"fu\" :type :int :label \"fu (int)\")\n",
    "    (:indicator \"baz\" :type :string :label \"baz (string)\")\n",
    "    (:indicator \"quux\" :type :option :label \"quux (option)\" :options (\"wibble\" \"gronk\" \"kilroy\"))\n",
    "    (:indicator \"foxtrot\" :type :option :label \"foxtrot (option dropdown)\" :options (\"wibble\" \"gronk\" \"kilroy\") :style :dropdown)\n",
    "    (:indicator \"india\" :type :option :label \"india (option dropdown)\" :options (\"wibble\" \"gronk\" \"kilroy\") :style :slider)\n",
    "    (:indicator \"tango\" :type :option :label \"tango (option radio)\" :options (\"wibble\" \"gronk\" \"kilroy\") :style :radio)\n",
    "    (:indicator \"november\" :type :option :label \"november (option toggle)\" :options (\"wibble\" \"gronk\" \"kilroy\") :style :toggle)\n",
    "    (:indicator \"lima\" :type :option-range :label \"lima (option range)\" :options (\"wibble\" \"gronk\" \"kilroy\"))\n",
    "    (:indicator \"mike\" :type :option-set :label \"mike (option set)\" :options (\"wibble\" \"gronk\" \"kilroy\") :style :radio))\n",
    "  alist :test #'string=)"
   ]
  },
  {
   "cell_type": "code",
   "execution_count": 3,
   "metadata": {},
   "outputs": [
    {
     "data": {
      "text/plain": [
       "((\"november\" . \"kilroy\") (\"fu\" . 1) (\"lima\" \"wibble\" \"wibble\")\n",
       " (\"quux\" . \"gronk\"))"
      ]
     },
     "execution_count": 3,
     "metadata": {},
     "output_type": "execute_result"
    }
   ],
   "source": [
    "alist"
   ]
  },
  {
   "cell_type": "code",
   "execution_count": null,
   "metadata": {},
   "outputs": [],
   "source": []
  }
 ],
 "metadata": {
  "kernelspec": {
   "display_name": "Common Lisp (SBCL)",
   "language": "common-lisp",
   "name": "common-lisp_sbcl"
  },
  "language_info": {
   "codemirror_mode": "text/x-common-lisp",
   "file_extension": ".lisp",
   "mimetype": "text/x-common-lisp",
   "name": "common-lisp",
   "pygments_lexer": "common-lisp",
   "version": "2.0.8"
  }
 },
 "nbformat": 4,
 "nbformat_minor": 4
}
